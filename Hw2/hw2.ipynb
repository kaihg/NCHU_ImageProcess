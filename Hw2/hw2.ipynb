{
 "cells": [
  {
   "cell_type": "code",
   "execution_count": 102,
   "metadata": {},
   "outputs": [],
   "source": [
    "from PIL import Image\n",
    "from math import sqrt"
   ]
  },
  {
   "cell_type": "code",
   "execution_count": 78,
   "metadata": {
    "collapsed": true
   },
   "outputs": [],
   "source": [
    "img = Image.open(\"source.jpg\").convert(\"L\")\n"
   ]
  },
  {
   "cell_type": "code",
   "execution_count": 94,
   "metadata": {},
   "outputs": [],
   "source": [
    "#img.save(\"source_greyscale.jpg\")"
   ]
  },
  {
   "cell_type": "code",
   "execution_count": 97,
   "metadata": {},
   "outputs": [],
   "source": [
    "def convolutionMask(img,pixels,position,mask):\n",
    "    valueList = []\n",
    "    pX = position[0]\n",
    "    pY = position[1]\n",
    "    for i in range(3):\n",
    "        mY = i-1+pY\n",
    "        for j in range(3):\n",
    "            mX = j-1 + pX\n",
    "            if mX < 0 or mX >= img.width or mY < 0 or mY >= img.height:\n",
    "                valueList.append(pixels[pX,pY] * mask[i][j])\n",
    "                continue    \n",
    "                \n",
    "            value = pixels[mX,mY] * mask[i][j]\n",
    "            valueList.append(value)\n",
    "\n",
    "    result= sum(valueList)\n",
    "    return result"
   ]
  },
  {
   "cell_type": "code",
   "execution_count": 98,
   "metadata": {
    "scrolled": true
   },
   "outputs": [
    {
     "name": "stdout",
     "output_type": "stream",
     "text": [
      "14\n",
      "73 73 73 75 75 75 75 76 76\n",
      "4\n"
     ]
    }
   ],
   "source": [
    "pixels = img.load()\n",
    "mask = [[-1,-1,-1],\n",
    "        [-1,8,-1],\n",
    "        [-1,-1,-1]]\n",
    "print(convolutionMask(img,pixels,(0,0),mask))\n",
    "print(pixels[99,99],pixels[99,100],pixels[99,101],pixels[100,99],pixels[100,100],pixels[100,101],pixels[101,99],pixels[101,100],pixels[101,101])\n",
    "print(convolutionMask(img,pixels,[100,100],mask))"
   ]
  },
  {
   "cell_type": "code",
   "execution_count": 90,
   "metadata": {},
   "outputs": [],
   "source": [
    "def createImageEdge(img):\n",
    "    output =Image.new('L',(img.width,img.height),'white')\n",
    "    outputPixels = output.load()\n",
    "    #print(img.width,img.height)\n",
    "    \n",
    "    pixels = img.load()\n",
    "    for j in range(img.height):\n",
    "        for i in range(img.width):\n",
    "            value = int(convolutionMask(img,pixels,(i,j),mask)) #+ pixels[i,j][0]\n",
    "            #print(value)\n",
    "            outputPixels[i,j] = value\n",
    "    return output\n",
    "    \n"
   ]
  },
  {
   "cell_type": "code",
   "execution_count": 91,
   "metadata": {
    "collapsed": true
   },
   "outputs": [],
   "source": [
    "def mergeImage(img1,img2):\n",
    "    pixels1 = img1.load()\n",
    "    pixels2 = img2.load()\n",
    "    \n",
    "    output = Image.new('L',(img1.width,img1.height),\"white\")\n",
    "    outputPixel = output.load()\n",
    "    for j in range(img1.height):\n",
    "        for i in range(img1.width):\n",
    "            value =  pixels1[i,j] + pixels2[i,j]\n",
    "            outputPixel[i,j] = value\n",
    "            \n",
    "    return output\n",
    "            "
   ]
  },
  {
   "cell_type": "code",
   "execution_count": 99,
   "metadata": {},
   "outputs": [],
   "source": [
    "edgeImg = createImageEdge(img)\n",
    "edgeImg.save(\"process1.jpg\")"
   ]
  },
  {
   "cell_type": "code",
   "execution_count": 100,
   "metadata": {},
   "outputs": [],
   "source": [
    "mergeImg = mergeImage(img,edgeImg)\n",
    "mergeImg.save('process2.jpg')"
   ]
  },
  {
   "cell_type": "code",
   "execution_count": 109,
   "metadata": {
    "collapsed": true
   },
   "outputs": [],
   "source": [
    "def createSobelFilterImage(img):\n",
    "    maskX = [[-1,0,1],\n",
    "             [-2,0,2],\n",
    "             [-1,0,1]]\n",
    "    maskY = [[-1,-2,-1],\n",
    "             [0,0,0],\n",
    "             [1,2,1]]\n",
    "    \n",
    "    output = Image.new('L',(img.width,img.height),\"white\")\n",
    "    outputPixel = output.load()\n",
    "    \n",
    "    pixels = img.load()\n",
    "    for j in range(img.height):\n",
    "        for i in range(img.width):\n",
    "            gX = convolutionMask(img,pixels,(i,j),maskX)\n",
    "            gY = convolutionMask(img,pixels,(i,j),maskY)\n",
    "            value = int(sqrt(gX*gX + gY*gY))\n",
    "            outputPixel[i,j] = value\n",
    "    return output"
   ]
  },
  {
   "cell_type": "code",
   "execution_count": 110,
   "metadata": {},
   "outputs": [],
   "source": [
    "sobelImg = createSobelFilterImage(img)\n",
    "sobelImg.save('process3.jpg')"
   ]
  },
  {
   "cell_type": "code",
   "execution_count": 120,
   "metadata": {
    "collapsed": true
   },
   "outputs": [],
   "source": [
    "def advangeImage(img):\n",
    "    mask = [[0.1111,0.1111,0.1111],\n",
    "        [0.1111,0.1111,0.1111],\n",
    "        [0.1111,0.1111,0.1111]]\n",
    "    output = Image.new('L',(img.width,img.height),\"white\")\n",
    "    outputPixel = output.load()\n",
    "    \n",
    "    pixels = img.load()\n",
    "    for j in range(img.height):\n",
    "        for i in range(img.width):\n",
    "            value = convolutionMask(img,pixels,(i,j),mask)\n",
    "            outputPixel[i,j] = int(value)\n",
    "    return output"
   ]
  },
  {
   "cell_type": "code",
   "execution_count": 121,
   "metadata": {},
   "outputs": [],
   "source": [
    "advancedImg = advangeImage(sobelImg)\n",
    "advancedImg.save('process4.jpg')"
   ]
  },
  {
   "cell_type": "code",
   "execution_count": 117,
   "metadata": {
    "collapsed": true
   },
   "outputs": [],
   "source": [
    "def normalizeAndMerge(normalizeImg,inputImg):\n",
    "    pixelsNormal = normalizeImg.load()\n",
    "    inputPixels = inputImg.load()\n",
    "    \n",
    "    output = Image.new('L',(normalizeImg.width,normalizeImg.height),\"white\")\n",
    "    outputPixel = output.load()\n",
    "    \n",
    "    for j in range(img.height):\n",
    "        for i in range(img.width):\n",
    "            value = pixelsNormal[i,j] / 255 * inputPixels[i,j]\n",
    "            outputPixel[i,j] = int(value)\n",
    "    return output\n",
    "    "
   ]
  },
  {
   "cell_type": "code",
   "execution_count": 122,
   "metadata": {},
   "outputs": [],
   "source": [
    "noramlizedImg = normalizeAndMerge(advancedImg,edgeImg)\n",
    "noramlizedImg.save('process5.jpg')"
   ]
  },
  {
   "cell_type": "code",
   "execution_count": 123,
   "metadata": {
    "collapsed": true
   },
   "outputs": [],
   "source": [
    "finalImg = mergeImage(noramlizedImg,img)\n",
    "finalImg.save('process6.jpg')"
   ]
  },
  {
   "cell_type": "code",
   "execution_count": null,
   "metadata": {
    "collapsed": true
   },
   "outputs": [],
   "source": []
  }
 ],
 "metadata": {
  "kernelspec": {
   "display_name": "Python 3",
   "language": "python",
   "name": "python3"
  },
  "language_info": {
   "codemirror_mode": {
    "name": "ipython",
    "version": 3
   },
   "file_extension": ".py",
   "mimetype": "text/x-python",
   "name": "python",
   "nbconvert_exporter": "python",
   "pygments_lexer": "ipython3",
   "version": "3.6.2"
  }
 },
 "nbformat": 4,
 "nbformat_minor": 2
}
