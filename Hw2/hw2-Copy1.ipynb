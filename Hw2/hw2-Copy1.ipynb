{
 "cells": [
  {
   "cell_type": "code",
   "execution_count": 5,
   "metadata": {
    "collapsed": true
   },
   "outputs": [],
   "source": [
    "from PIL import Image\n",
    "from math import sqrt"
   ]
  },
  {
   "cell_type": "code",
   "execution_count": 21,
   "metadata": {
    "collapsed": true
   },
   "outputs": [],
   "source": [
    "\n",
    "img = Image.open(\"enhance_0.jpg\")\n"
   ]
  },
  {
   "cell_type": "code",
   "execution_count": 22,
   "metadata": {
    "collapsed": true
   },
   "outputs": [],
   "source": [
    "def convolutionMask(img,pixels,position,mask):\n",
    "    valueList = []\n",
    "    pX = position[0]\n",
    "    pY = position[1]\n",
    "    for i in range(3):\n",
    "        mY = i-1+pY\n",
    "        #if mY < 0 or mY >= img.height:\n",
    "        #    continue\n",
    "        \n",
    "        for j in range(3):\n",
    "            mX = j-1 + pX\n",
    "            if mX < 0 or mX >= img.width or mY < 0 or mY >= img.height:\n",
    "                valueList.append([pixels[pX,pY][p] * mask[i][j] for p in range(3)] )\n",
    "                continue    \n",
    "                \n",
    "            value =  [pixels[mX,mY][p] * mask[i][j] for p in range(3)] \n",
    "            valueList.append(value)\n",
    "    #print(valueList)\n",
    "    \n",
    "    r = sum([pixel[0] for pixel in valueList])\n",
    "    g = sum([pixel[1] for pixel in valueList])\n",
    "    b = sum([pixel[2] for pixel in valueList])\n",
    "    \n",
    "    result= (r,g,b)\n",
    "    #if(result<0):\n",
    "    #    return 0 \n",
    "    #elif(result>255):\n",
    "    #    return 255 \n",
    "    #else: \n",
    "    #    return result\n",
    "    return result"
   ]
  },
  {
   "cell_type": "code",
   "execution_count": 23,
   "metadata": {
    "collapsed": true
   },
   "outputs": [],
   "source": [
    "#img.save(\"source_greyscale.jpg\")"
   ]
  },
  {
   "cell_type": "code",
   "execution_count": 24,
   "metadata": {
    "scrolled": true
   },
   "outputs": [
    {
     "name": "stdout",
     "output_type": "stream",
     "text": [
      "(2, 2, 2)\n",
      "(227, 202, 37) (227, 202, 39) (227, 202, 40) (227, 202, 37) (226, 201, 38) (226, 201, 38) (227, 202, 37) (226, 201, 38) (225, 200, 37)\n",
      "(-4, -4, 1)\n"
     ]
    }
   ],
   "source": [
    "pixels = img.load()\n",
    "mask = [[-1,-1,-1],\n",
    "        [-1,8,-1],\n",
    "        [-1,-1,-1]]\n",
    "print(convolutionMask(img,pixels,(0,0),mask))\n",
    "print(pixels[99,99],pixels[99,100],pixels[99,101],pixels[100,99],pixels[100,100],pixels[100,101],pixels[101,99],pixels[101,100],pixels[101,101])\n",
    "print(convolutionMask(img,pixels,[100,100],mask))"
   ]
  },
  {
   "cell_type": "code",
   "execution_count": 25,
   "metadata": {
    "collapsed": true
   },
   "outputs": [],
   "source": [
    "def createImageEdge(img):\n",
    "    output =Image.new('RGB',(img.width,img.height),'white')\n",
    "    outputPixels = output.load()\n",
    "    #print(img.width,img.height)\n",
    "    \n",
    "    pixels = img.load()\n",
    "    for j in range(img.height):\n",
    "        for i in range(img.width):\n",
    "            value = convolutionMask(img,pixels,(i,j),mask)\n",
    "            #print(value)\n",
    "            outputPixels[i,j] = value\n",
    "    return output\n",
    "    \n"
   ]
  },
  {
   "cell_type": "code",
   "execution_count": 26,
   "metadata": {
    "collapsed": true
   },
   "outputs": [],
   "source": [
    "def mergeImage(img1,img2):\n",
    "    pixels1 = img1.load()\n",
    "    pixels2 = img2.load()\n",
    "    \n",
    "    output = Image.new('RGB',(img1.width,img1.height),\"white\")\n",
    "    outputPixel = output.load()\n",
    "    for j in range(img1.height):\n",
    "        for i in range(img1.width):\n",
    "            value = [pixels1[i,j][p] + pixels2[i,j][p] for p in range(3)]\n",
    "            outputPixel[i,j] = tuple(value)\n",
    "            \n",
    "    return output\n",
    "            "
   ]
  },
  {
   "cell_type": "code",
   "execution_count": 12,
   "metadata": {
    "collapsed": true
   },
   "outputs": [],
   "source": [
    "edgeImg = createImageEdge(img)\n",
    "edgeImg.save(\"RGBprocess1.jpg\")"
   ]
  },
  {
   "cell_type": "code",
   "execution_count": 13,
   "metadata": {
    "collapsed": true
   },
   "outputs": [],
   "source": [
    "mergeImg = mergeImage(img,edgeImg)\n",
    "mergeImg.save('RGBprocess2.jpg')"
   ]
  },
  {
   "cell_type": "code",
   "execution_count": 14,
   "metadata": {
    "collapsed": true
   },
   "outputs": [],
   "source": [
    "def createSobelFilterImage(img):\n",
    "    maskX = [[-1,0,1],\n",
    "             [-2,0,2],\n",
    "             [-1,0,1]]\n",
    "    maskY = [[-1,-2,-1],\n",
    "             [0,0,0],\n",
    "             [1,2,1]]\n",
    "    \n",
    "    output = Image.new('RGB',(img.width,img.height),\"white\")\n",
    "    outputPixel = output.load()\n",
    "    \n",
    "    pixels = img.load()\n",
    "    for j in range(img.height):\n",
    "        for i in range(img.width):\n",
    "            gX = convolutionMask(img,pixels,(i,j),maskX)\n",
    "            gY = convolutionMask(img,pixels,(i,j),maskY)\n",
    "            \n",
    "            value = [int(sqrt(gX[i]*gX[i] + gY[i]*gY[i])) for i in range(3)]\n",
    "            outputPixel[i,j] = tuple(value)\n",
    "    return output"
   ]
  },
  {
   "cell_type": "code",
   "execution_count": 15,
   "metadata": {
    "collapsed": true
   },
   "outputs": [],
   "source": [
    "sobelImg = createSobelFilterImage(img)\n",
    "sobelImg.save('RGBprocess3.jpg')"
   ]
  },
  {
   "cell_type": "code",
   "execution_count": 18,
   "metadata": {
    "collapsed": true
   },
   "outputs": [],
   "source": [
    "def advangeImage(img):\n",
    "    mask = [[0.125,0.125,0.125],\n",
    "        [0.125,0.125,0.125],\n",
    "        [0.125,0.125,0.125]]\n",
    "    output = Image.new('RGB',(img.width,img.height),\"white\")\n",
    "    outputPixel = output.load()\n",
    "    \n",
    "    pixels = img.load()\n",
    "    for j in range(img.height):\n",
    "        for i in range(img.width):\n",
    "            value = convolutionMask(img,pixels,(i,j),mask)\n",
    "            outputPixel[i,j] = (int(value[0]),int(value[1]),int(value[2]))\n",
    "    return output"
   ]
  },
  {
   "cell_type": "code",
   "execution_count": 19,
   "metadata": {},
   "outputs": [],
   "source": [
    "advancedImg = advangeImage(sobelImg)\n",
    "advancedImg.save('RGBprocess4.jpg')"
   ]
  },
  {
   "cell_type": "code",
   "execution_count": 27,
   "metadata": {
    "collapsed": true
   },
   "outputs": [],
   "source": [
    "def normalizeAndMerge(normalizeImg,inputImg):\n",
    "    pixelsNormal = normalizeImg.load()\n",
    "    inputPixels = inputImg.load()\n",
    "    \n",
    "    output = Image.new('RGB',(normalizeImg.width,normalizeImg.height),\"white\")\n",
    "    outputPixel = output.load()\n",
    "    \n",
    "    for j in range(img.height):\n",
    "        for i in range(img.width):\n",
    "            \n",
    "            value = [int(pixelsNormal[i,j][p] / 255 * inputPixels[i,j][p]) for p in range(3)]\n",
    "            outputPixel[i,j] = tuple(value)\n",
    "    return output\n",
    "    "
   ]
  },
  {
   "cell_type": "code",
   "execution_count": 28,
   "metadata": {
    "collapsed": true
   },
   "outputs": [],
   "source": [
    "noramlizedImg = normalizeAndMerge(advancedImg,edgeImg)\n",
    "noramlizedImg.save('RGBprocess5.jpg')"
   ]
  },
  {
   "cell_type": "code",
   "execution_count": 29,
   "metadata": {
    "collapsed": true
   },
   "outputs": [],
   "source": [
    "finalImg = mergeImage(noramlizedImg,img)\n",
    "finalImg.save('RGBprocess6.jpg')"
   ]
  },
  {
   "cell_type": "code",
   "execution_count": null,
   "metadata": {
    "collapsed": true
   },
   "outputs": [],
   "source": []
  }
 ],
 "metadata": {
  "kernelspec": {
   "display_name": "Python 3",
   "language": "python",
   "name": "python3"
  },
  "language_info": {
   "codemirror_mode": {
    "name": "ipython",
    "version": 3
   },
   "file_extension": ".py",
   "mimetype": "text/x-python",
   "name": "python",
   "nbconvert_exporter": "python",
   "pygments_lexer": "ipython3",
   "version": "3.6.2"
  }
 },
 "nbformat": 4,
 "nbformat_minor": 2
}
