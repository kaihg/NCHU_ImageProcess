{
 "cells": [
  {
   "cell_type": "code",
   "execution_count": null,
   "metadata": {
    "collapsed": true
   },
   "outputs": [],
   "source": [
    "from PIL import Image\n",
    "import numpy as np\n",
    "import scipy"
   ]
  },
  {
   "cell_type": "code",
   "execution_count": null,
   "metadata": {
    "collapsed": true
   },
   "outputs": [],
   "source": [
    "img1 = Image.open(\"pic_left.jpg\")\n",
    "img2 = Image.open(\"pic_right.jpg\")"
   ]
  },
  {
   "cell_type": "code",
   "execution_count": 70,
   "metadata": {
    "collapsed": true
   },
   "outputs": [],
   "source": [
    "### 在兩張圖片上手動找出三個相同物品的pixel位置\n",
    "pList1 = [(2779,2747),(1139,2173),(1772,1389)]\n",
    "pList2 = [(1651,2357),(55,1758),(692,965)]"
   ]
  },
  {
   "cell_type": "code",
   "execution_count": 40,
   "metadata": {
    "collapsed": true
   },
   "outputs": [],
   "source": [
    "def createTransform(pList1,pList2):\n",
    "    ### 產生transformation function\n",
    "    primary = np.float32(pList1)\n",
    "    secondary = np.float32(pList2)\n",
    "    \n",
    "    n = primary.shape[0] # dim\n",
    "    pad = lambda x: np.hstack([x, np.ones((x.shape[0], 1))]) #增加維度成 NxN Matrix\n",
    "    unpad = lambda x: x[:,:-1] # 把維度降回\n",
    "    X = pad(primary)\n",
    "    Y = pad(secondary)\n",
    "    \n",
    "    A = np.linalg.solve(X,Y)\n",
    "\n",
    "    transform = lambda x: unpad(np.dot(pad(x), A))\n",
    "    return transform\n",
    "    \n",
    "    \n",
    "    "
   ]
  },
  {
   "cell_type": "code",
   "execution_count": 72,
   "metadata": {
    "collapsed": true
   },
   "outputs": [],
   "source": [
    "transform = createTransform(pList1,pList2)\n",
    "invers = createTransform(pList2,pList1)"
   ]
  },
  {
   "cell_type": "code",
   "execution_count": null,
   "metadata": {
    "collapsed": true
   },
   "outputs": [],
   "source": [
    "### 測試用\n",
    "transform(np.float32([[2779,2747],[1651,2357]]))"
   ]
  },
  {
   "cell_type": "code",
   "execution_count": null,
   "metadata": {
    "collapsed": true
   },
   "outputs": [],
   "source": [
    "### 測試用\n",
    "invers(np.float32([[2008,2285],[967,2439]]))"
   ]
  },
  {
   "cell_type": "code",
   "execution_count": 13,
   "metadata": {
    "collapsed": true
   },
   "outputs": [],
   "source": [
    "def bilinear(targetTuple,rgb_im):\n",
    "    x = targetTuple[0]\n",
    "    y = targetTuple[1]\n",
    "    \n",
    "    if (x < 0 or x >= rgb_im.width or y < 0 or y >= rgb_im.height):\n",
    "        return (0,0,0)\n",
    "    if(x==rgb_im.width-1 or y==rgb_im.height-1):\n",
    "        return rgb_im.getpixel((x,y))\n",
    "    \n",
    "    x1 = int(x)\n",
    "    x2 = min(x1+1,rgb_im.width-1)\n",
    "    y1 = int(y)\n",
    "    y2 = min(y1+1,rgb_im.height-1)\n",
    "    \n",
    "    x11 = np.float32([(x-x1)*p for p in rgb_im.getpixel((x1, y2))]) + np.float32([(x2-x)*p for p in rgb_im.getpixel((x1, y1))])\n",
    "    #print(x11)\n",
    "    x22 =np.float32( [(x-x1)*p for p in rgb_im.getpixel((x2, y2))]) + np.float32([(x2-x)*p for p in rgb_im.getpixel((x1, y2))])\n",
    "    #print(x22)\n",
    "    y12 = (y-y1) * x22 + (y2-y) * x11\n",
    "    \n",
    "    return y12\n",
    "    "
   ]
  },
  {
   "cell_type": "code",
   "execution_count": 14,
   "metadata": {},
   "outputs": [
    {
     "data": {
      "text/plain": [
       "(11, 13, 12)"
      ]
     },
     "execution_count": 14,
     "metadata": {},
     "output_type": "execute_result"
    }
   ],
   "source": [
    "bilinear((4127,3095),img2.convert('RGB'))"
   ]
  },
  {
   "cell_type": "code",
   "execution_count": 74,
   "metadata": {},
   "outputs": [
    {
     "name": "stdout",
     "output_type": "stream",
     "text": [
      "4137 3096\n"
     ]
    }
   ],
   "source": [
    "inverPoint = invers(np.float32([[0,0],[0,img2.height],[img2.width,0],[img2.width,img2.height]]))\n",
    "width = 0;\n",
    "height = 0;\n",
    "for points in inverPoint:\n",
    "    width = max(width,points[0])\n",
    "    height = max(height,points[1])\n",
    "width = int(max(img1.width,width))\n",
    "height = int(max(img1.height,height))\n",
    "print(width,height)\n",
    "\n",
    "img1_rgb = img1.convert('RGB')\n",
    "img2_rgb = img2.convert('RGB')\n",
    "\n",
    "imgMerge = Image.new('RGB',(width,height),'black')\n",
    "pixels = imgMerge.load();\n",
    "\n",
    "#transP = transform(np.float32([[99,111]]))\n",
    "#p = bilinear(transP[0],img2_rgb)\n",
    "#print(tuple(p))\n",
    "#pixels[0,0] = p\n",
    "\n",
    "for j in range(height):\n",
    "    for i in range(width):\n",
    "        if (i < img1.width and j < img1.height):\n",
    "            pixels[i,j] = img1_rgb.getpixel((i,j))\n",
    "        else :\n",
    "            transP = transform(np.float32([[i,j]]))\n",
    "            p = bilinear(transP[0],img2_rgb)\n",
    "            pixels[i,j] = tuple(p)\n",
    "        #print(pixels[i,j])\n",
    "imgMerge.save('mergeImg2.jpg','JPEG')\n",
    "imgMerge.show()"
   ]
  },
  {
   "cell_type": "code",
   "execution_count": null,
   "metadata": {
    "collapsed": true
   },
   "outputs": [],
   "source": []
  }
 ],
 "metadata": {
  "kernelspec": {
   "display_name": "Python 3",
   "language": "python",
   "name": "python3"
  },
  "language_info": {
   "codemirror_mode": {
    "name": "ipython",
    "version": 3
   },
   "file_extension": ".py",
   "mimetype": "text/x-python",
   "name": "python",
   "nbconvert_exporter": "python",
   "pygments_lexer": "ipython3",
   "version": "3.6.2"
  }
 },
 "nbformat": 4,
 "nbformat_minor": 2
}
