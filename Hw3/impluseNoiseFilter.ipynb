{
 "cells": [
  {
   "cell_type": "code",
   "execution_count": 11,
   "metadata": {
    "collapsed": true
   },
   "outputs": [],
   "source": [
    "from PIL import Image\n",
    "import random"
   ]
  },
  {
   "cell_type": "code",
   "execution_count": 12,
   "metadata": {
    "collapsed": true
   },
   "outputs": [],
   "source": [
    "## add impluse noise if the source is pure\n",
    "def addNoise(img,implusePercent=0.25):\n",
    "    output = Image.new(\"L\",(img.width,img.height))\n",
    "    outputPixels = output.load()\n",
    "    pixels = img.load()\n",
    "    \n",
    "    for j in range(img.height):\n",
    "        for i in range(img.width):\n",
    "            ran = random.random()\n",
    "            if ran < implusePercent:\n",
    "                outputPixels[i,j] = 0\n",
    "            elif ran < 2*implusePercent:\n",
    "                outputPixels[i,j] = 255\n",
    "            else:\n",
    "                outputPixels[i,j] = pixels[i,j]\n",
    "            \n",
    "    return output"
   ]
  },
  {
   "cell_type": "code",
   "execution_count": 13,
   "metadata": {
    "collapsed": true
   },
   "outputs": [],
   "source": [
    "def getTags(img, x ,y,size = 3):\n",
    "    pixels = []\n",
    "    width = img.width\n",
    "    height = img.height\n",
    "    \n",
    "    imgLoad = img.load()\n",
    "    \n",
    "    for j in range(size):\n",
    "        pY = y - int(size/2) + j\n",
    "        if  pY < 0 or pY >= height:\n",
    "            continue\n",
    "            \n",
    "        for i in range(size):\n",
    "            pX = x - int(size/2) + i\n",
    "            if pX < 0 or pX >= width :\n",
    "                continue\n",
    "            #print(pX,pY,imgLoad[pX,pY])\n",
    "            pixels.append(imgLoad[pX,pY])\n",
    "    \n",
    "    #print(pixels)\n",
    "    pixels.sort()\n",
    "    #print(pixels)\n",
    "    \n",
    "    Zmin = pixels[0]\n",
    "    Zmax = pixels[-1]\n",
    "    Zmed = pixels[int(len(pixels)/2)]\n",
    "    Zxy = imgLoad[x,y]\n",
    "    \n",
    "    return Zmin,Zmed,Zmax,Zxy\n",
    "            "
   ]
  },
  {
   "cell_type": "code",
   "execution_count": 14,
   "metadata": {
    "collapsed": true
   },
   "outputs": [],
   "source": [
    "def adaptiveMedianFilter(img,x,y,size=3,maxSize = 7):\n",
    "    Zmin,Zmed,Zmax,Zxy = getTags(img,x,y,size)\n",
    "    #print( Zmin,Zmed,Zmax,Zxy,size)\n",
    "    \n",
    "    if Zmin < Zmed < Zmax:\n",
    "        # level B\n",
    "        if Zmin < Zxy < Zmax:\n",
    "            return Zxy\n",
    "        else:\n",
    "            return Zmed\n",
    "    else:\n",
    "        size +=2\n",
    "    \n",
    "    if size <= maxSize:\n",
    "        return adaptiveMedianFilter(img,x,y,size)\n",
    "    else:\n",
    "        ## med or xy?\n",
    "        return Zmed\n",
    "        #return Zxy"
   ]
  },
  {
   "cell_type": "code",
   "execution_count": 15,
   "metadata": {
    "collapsed": true
   },
   "outputs": [],
   "source": [
    "def medianFilter(img,x,y,size=3,maxSize=7):\n",
    "    Zmin,Zmed,Zmax,Zxy = getTags(img,x,y,size)\n",
    "    return Zmed"
   ]
  },
  {
   "cell_type": "code",
   "execution_count": 16,
   "metadata": {
    "collapsed": true
   },
   "outputs": [],
   "source": [
    "def filterNoise(img, method):\n",
    "    output = Image.new(\"L\",(img.width,img.height))\n",
    "    pixels = output.load()\n",
    "    \n",
    "    for j in range(img.height):\n",
    "        for i in range(img.width):\n",
    "            pixels[i,j] = method(img,i,j)\n",
    "    return output"
   ]
  },
  {
   "cell_type": "code",
   "execution_count": 22,
   "metadata": {
    "collapsed": true
   },
   "outputs": [],
   "source": [
    "img = Image.open(\"source_color.jpg\").convert(\"L\")\n",
    "img.save(\"source.jpg\")\n",
    "#img = Image.open(\"source.jpg\")"
   ]
  },
  {
   "cell_type": "code",
   "execution_count": 23,
   "metadata": {
    "collapsed": true
   },
   "outputs": [],
   "source": [
    "noisedImg = addNoise(img,0.25)\n",
    "noisedImg.save(\"implused.jpg\")"
   ]
  },
  {
   "cell_type": "code",
   "execution_count": 24,
   "metadata": {
    "collapsed": true
   },
   "outputs": [],
   "source": [
    "filterImg = filterNoise(noisedImg,adaptiveMedianFilter)\n",
    "filterImg.save(\"result-adaptive.jpg\")\n"
   ]
  },
  {
   "cell_type": "code",
   "execution_count": 25,
   "metadata": {
    "collapsed": true
   },
   "outputs": [],
   "source": [
    "badFilterImg = filterNoise(noisedImg,medianFilter)\n",
    "badFilterImg.save(\"result-median.jpg\")"
   ]
  },
  {
   "cell_type": "code",
   "execution_count": 26,
   "metadata": {
    "collapsed": true
   },
   "outputs": [],
   "source": [
    "noisedImg.close()\n",
    "filterImg.close()\n",
    "badFilterImg.close()\n",
    "img.close()"
   ]
  },
  {
   "cell_type": "code",
   "execution_count": null,
   "metadata": {
    "collapsed": true
   },
   "outputs": [],
   "source": []
  }
 ],
 "metadata": {
  "kernelspec": {
   "display_name": "Python 3",
   "language": "python",
   "name": "python3"
  },
  "language_info": {
   "codemirror_mode": {
    "name": "ipython",
    "version": 3
   },
   "file_extension": ".py",
   "mimetype": "text/x-python",
   "name": "python",
   "nbconvert_exporter": "python",
   "pygments_lexer": "ipython3",
   "version": "3.6.2"
  }
 },
 "nbformat": 4,
 "nbformat_minor": 2
}
