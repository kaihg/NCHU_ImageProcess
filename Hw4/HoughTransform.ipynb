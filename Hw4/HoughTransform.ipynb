{
 "cells": [
  {
   "cell_type": "code",
   "execution_count": 37,
   "metadata": {
    "collapsed": true
   },
   "outputs": [],
   "source": [
    "from PIL import Image, ImageFilter,ImageDraw\n",
    "import math\n",
    "import numpy"
   ]
  },
  {
   "cell_type": "code",
   "execution_count": 27,
   "metadata": {},
   "outputs": [],
   "source": [
    "source = Image.open(\"source.jpg\")"
   ]
  },
  {
   "cell_type": "code",
   "execution_count": 28,
   "metadata": {},
   "outputs": [],
   "source": [
    "edgeImage = source.filter(ImageFilter.FIND_EDGES)\n",
    "edgeImage.save('edgeImg.jpg') "
   ]
  },
  {
   "cell_type": "code",
   "execution_count": 31,
   "metadata": {
    "collapsed": true
   },
   "outputs": [],
   "source": [
    "def createPointImg(img,threshold=128,fileName=\"binaryImg.jpg\"):\n",
    "    # 來源圖片是用預設方法取得的線，在圖片邊緣也會產生線，不希望如此所以特別減少 1 + 1 px\n",
    "    output = Image.new(\"L\",(img.width-2,img.height-2))\n",
    "    outputPixels = output.load()\n",
    "    pixels = img.load()\n",
    "    \n",
    "    for j in range(img.height-2):\n",
    "        for i in range(img.width-2):\n",
    "            if pixels[i+1,j+1] < threshold:\n",
    "                outputPixels[i,j] = 0\n",
    "            else :\n",
    "                outputPixels[i,j] = 255\n",
    "    output.save(fileName)\n",
    "    return output"
   ]
  },
  {
   "cell_type": "code",
   "execution_count": 32,
   "metadata": {},
   "outputs": [],
   "source": [
    "binaryImg = createPointImg(edgeImage)"
   ]
  },
  {
   "cell_type": "code",
   "execution_count": 6,
   "metadata": {},
   "outputs": [],
   "source": [
    "def houghTransform(x,y,angle):\n",
    "    return x*math.cos(angle) + y*math.sin(angle)"
   ]
  },
  {
   "cell_type": "code",
   "execution_count": 7,
   "metadata": {},
   "outputs": [],
   "source": [
    "def computerImageHough(img):\n",
    "    sliceNum = 1000\n",
    "    #output = Image.new(\"L\",(img.width,img.height))\n",
    "    #outputPixels = output.load()\n",
    "    pixels = img.load()\n",
    "    outputPixels = []\n",
    "    \n",
    "    minP = 0\n",
    "    maxP = 0\n",
    "    \n",
    "    for j in range(img.height):\n",
    "        outputPixels.append([])\n",
    "        for i in range(img.width):\n",
    "            if pixels[i,j] != 0:\n",
    "                lineP = []\n",
    "                # 算 (i,j) pixel 在所有 angle 上的 p，並記錄下來\n",
    "                for angleCount in range(sliceNum):\n",
    "                    angle = (2 * angleCount / sliceNum - 1) * math.pi \n",
    "                    p = houghTransform(i,j,angle)\n",
    "                    #print(p)\n",
    "                    lineP.append(p)\n",
    "                    # 記錄上下限，以便後面產生圖片\n",
    "                    if p < minP:\n",
    "                        minP = p\n",
    "                    if p > maxP:\n",
    "                        maxP = p\n",
    "                outputPixels[j].append(lineP)\n",
    "            else :\n",
    "                outputPixels[j].append([])\n",
    "    \n",
    "    \n",
    "    return (outputPixels,minP,maxP)"
   ]
  },
  {
   "cell_type": "code",
   "execution_count": 33,
   "metadata": {},
   "outputs": [],
   "source": [
    "result = computerImageHough(binaryImg)"
   ]
  },
  {
   "cell_type": "code",
   "execution_count": 9,
   "metadata": {},
   "outputs": [
    {
     "name": "stdout",
     "output_type": "stream",
     "text": [
      "-1192.2523035803797 1192.2523035803797\n"
     ]
    }
   ],
   "source": [
    "print(result[1],result[2])"
   ]
  },
  {
   "cell_type": "code",
   "execution_count": 10,
   "metadata": {},
   "outputs": [],
   "source": [
    "def createHoughImg(data,minP,maxP,sliceNum = 1000):\n",
    "    height = round(maxP - minP)\n",
    "    \n",
    "    transData = numpy.zeros(shape=(height,sliceNum))\n",
    "    maxCount = 0 \n",
    "    maxPosition = None\n",
    "    #print(transData[0][0])\n",
    "    \n",
    "    # find 最多交點數量\n",
    "    for i in range(len(data)):\n",
    "        row = data[i]\n",
    "        for j in range(len(row)):\n",
    "            line = row[j]\n",
    "            for k in range(len(line)):\n",
    "                p = int(line[k] - minP)\n",
    "                #print(p,k)\n",
    "                #print(transData[p][k])\n",
    "                transData[p][k] += 1\n",
    "                if (transData[p][k] > maxCount):\n",
    "                    maxCount = transData[p][k]\n",
    "                    maxPosition = (p,k)\n",
    "    #print(maxCount,maxPosition)\n",
    "    \n",
    "    output = Image.new(\"L\",(height,sliceNum))\n",
    "    outputPixels = output.load()\n",
    "    \n",
    "    for p in range(height):\n",
    "        for s in range(sliceNum):\n",
    "            outputPixels[p,s] = int(transData[p][s] * 255 / maxCount)\n",
    "    \n",
    "    output.save(\"Hough.jpg\")\n",
    "    return maxPosition,maxCount"
   ]
  },
  {
   "cell_type": "code",
   "execution_count": 34,
   "metadata": {},
   "outputs": [],
   "source": [
    "result2 = createHoughImg(result[0],result[1],result[2])"
   ]
  },
  {
   "cell_type": "code",
   "execution_count": 12,
   "metadata": {},
   "outputs": [
    {
     "name": "stdout",
     "output_type": "stream",
     "text": [
      "((1192, 250), 951.0)\n"
     ]
    }
   ],
   "source": [
    "print(result2)"
   ]
  },
  {
   "cell_type": "code",
   "execution_count": 46,
   "metadata": {
    "collapsed": true
   },
   "outputs": [],
   "source": [
    "def findAllLine(data, passPoint, minP):\n",
    "    angle = passPoint[1]\n",
    "    p = passPoint[0]\n",
    "    \n",
    "    points = []\n",
    "    \n",
    "    for i in range(len(data)):\n",
    "        row = data[i]\n",
    "        for j in range(len(row)):\n",
    "            line = row[j]\n",
    "            if (len(line) > angle) and int(line[angle] - minP) == p:\n",
    "                points.append((j,i))\n",
    "    return points"
   ]
  },
  {
   "cell_type": "code",
   "execution_count": 47,
   "metadata": {},
   "outputs": [],
   "source": [
    "#print(len(result),len(result[0]),len(result[0][0]),len(result[0][0][0]))\n",
    "points = findAllLine(result[0],result2[0],result[1])"
   ]
  },
  {
   "cell_type": "code",
   "execution_count": 48,
   "metadata": {
    "collapsed": true
   },
   "outputs": [],
   "source": [
    "def drawLine(img, points):\n",
    "    img2 = img.crop((0,0,img.width,img.height))\n",
    "    #img2 = Image.new(\"L\",(img.width,img.height))\n",
    "    draw = ImageDraw.Draw(img2)\n",
    "    \n",
    "    draw.line(points,fill = 255,width = 3)\n",
    "    img2.save(\"result.jpg\")"
   ]
  },
  {
   "cell_type": "code",
   "execution_count": 50,
   "metadata": {},
   "outputs": [],
   "source": [
    "drawLine(edgeImage,points)"
   ]
  },
  {
   "cell_type": "code",
   "execution_count": null,
   "metadata": {
    "collapsed": true
   },
   "outputs": [],
   "source": []
  }
 ],
 "metadata": {
  "kernelspec": {
   "display_name": "Python 3",
   "language": "python",
   "name": "python3"
  },
  "language_info": {
   "codemirror_mode": {
    "name": "ipython",
    "version": 3
   },
   "file_extension": ".py",
   "mimetype": "text/x-python",
   "name": "python",
   "nbconvert_exporter": "python",
   "pygments_lexer": "ipython3",
   "version": "3.6.2"
  }
 },
 "nbformat": 4,
 "nbformat_minor": 2
}
